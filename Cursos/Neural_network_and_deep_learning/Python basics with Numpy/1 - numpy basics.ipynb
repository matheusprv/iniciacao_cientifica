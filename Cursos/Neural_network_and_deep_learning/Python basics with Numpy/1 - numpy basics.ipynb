{
 "cells": [
  {
   "cell_type": "code",
   "execution_count": 1,
   "id": "bd05f201",
   "metadata": {},
   "outputs": [],
   "source": [
    "import numpy as np\n",
    "import math\n",
    "\n",
    "array = np.array([1, 2, 3])\n",
    "y_hat = np.array([.9, 0.2, 0.1, .4, .9])\n",
    "y = np.array([1, 0, 0, 1, 1])"
   ]
  },
  {
   "cell_type": "code",
   "execution_count": null,
   "id": "8bcf5782",
   "metadata": {},
   "outputs": [],
   "source": [
    "def math_sigmoid(x):\n",
    "    return 1 / (1 + math.exp(-x))\n",
    "\n",
    "print(math_sigmoid(1))"
   ]
  },
  {
   "cell_type": "code",
   "execution_count": null,
   "id": "c45b0fd9",
   "metadata": {},
   "outputs": [],
   "source": [
    "def sigmoid(x):\n",
    "    return 1 / (1 + np.exp(-x))\n",
    "\n",
    "print(sigmoid(array))"
   ]
  },
  {
   "cell_type": "code",
   "execution_count": null,
   "id": "d3f902ee",
   "metadata": {},
   "outputs": [],
   "source": [
    "def sigmoid_derivative(x):\n",
    "    s = sigmoid(x)\n",
    "    return s * (1 - s) \n",
    "\n",
    "print(sigmoid_derivative(array))"
   ]
  },
  {
   "cell_type": "code",
   "execution_count": null,
   "id": "82fc0f24",
   "metadata": {},
   "outputs": [],
   "source": [
    "def image2vector(image):\n",
    "    return image.reshape(image.shape[0] * image.shape[1] * image.shape[2], 1)\n",
    "\n",
    "#image = np.array([ [np.random.random(3)], [np.random.random(3)], [np.random.random(3)]])\n",
    "image = np.array([[[ 0.67826139,  0.29380381],\n",
    "        [ 0.90714982,  0.52835647],\n",
    "        [ 0.4215251 ,  0.45017551]],\n",
    "\n",
    "       [[ 0.92814219,  0.96677647],\n",
    "        [ 0.85304703,  0.52351845],\n",
    "        [ 0.19981397,  0.27417313]],\n",
    "\n",
    "       [[ 0.60659855,  0.00533165],\n",
    "        [ 0.10820313,  0.49978937],\n",
    "        [ 0.34144279,  0.94630077]]])\n",
    "        \n",
    "print(image2vector(image))"
   ]
  },
  {
   "cell_type": "code",
   "execution_count": null,
   "id": "4a325a4c",
   "metadata": {},
   "outputs": [],
   "source": [
    "def normalizeRows(x):\n",
    "    return x / np.linalg.norm(x, axis = 1, keepdims = True)\n",
    "\n",
    "#array = np.array([np.random.random(3), np.random.random(3)])\n",
    "array = np.array([[0, 3, 4], [1, 6, 4]])\n",
    "\n",
    "print(normalizeRows(array))"
   ]
  },
  {
   "cell_type": "code",
   "execution_count": null,
   "id": "17272b56",
   "metadata": {},
   "outputs": [],
   "source": [
    "def softmax(x):\n",
    "    return np.exp(x) / np.sum(np.exp(x), axis = 1, keepdims = True)\n",
    "\n",
    "#array = np.array([np.random.random(5), np.random.random(5)])\n",
    "array = np.array([[9, 2, 5, 0, 0], [7, 5, 0, 0 ,0]])\n",
    "print(softmax(array))"
   ]
  },
  {
   "cell_type": "code",
   "execution_count": 36,
   "id": "a0433fff",
   "metadata": {},
   "outputs": [
    {
     "name": "stdout",
     "output_type": "stream",
     "text": [
      "1.1\n"
     ]
    }
   ],
   "source": [
    "def L1(y_hat, y):\n",
    "    return sum(abs(y - y_hat))\n",
    "        \n",
    "print(L1(y_hat,y))"
   ]
  },
  {
   "cell_type": "code",
   "execution_count": 39,
   "id": "99b6fd0c",
   "metadata": {},
   "outputs": [
    {
     "name": "stdout",
     "output_type": "stream",
     "text": [
      "0.43\n"
     ]
    }
   ],
   "source": [
    "def L2(y_hat, y):\n",
    "    x = y - y_hat\n",
    "    return np.dot(x,x)\n",
    "\n",
    "print(L2(y_hat,y))"
   ]
  }
 ],
 "metadata": {
  "kernelspec": {
   "display_name": "Python 3 (ipykernel)",
   "language": "python",
   "name": "python3"
  },
  "language_info": {
   "codemirror_mode": {
    "name": "ipython",
    "version": 3
   },
   "file_extension": ".py",
   "mimetype": "text/x-python",
   "name": "python",
   "nbconvert_exporter": "python",
   "pygments_lexer": "ipython3",
   "version": "3.11.1"
  }
 },
 "nbformat": 4,
 "nbformat_minor": 5
}
