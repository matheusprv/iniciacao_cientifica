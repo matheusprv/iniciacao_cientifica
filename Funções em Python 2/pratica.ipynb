{
 "cells": [
  {
   "cell_type": "code",
   "execution_count": 96,
   "metadata": {},
   "outputs": [],
   "source": [
    "import numpy as np\n",
    "import matplotlib.pyplot as plt\n",
    "import codecs\n",
    "import csv"
   ]
  },
  {
   "cell_type": "code",
   "execution_count": 78,
   "metadata": {},
   "outputs": [],
   "source": [
    "def generate_random(size):\n",
    "    np.random.seed(2003)\n",
    "    #return np.random.randint(low=1, high=101, size = (size[0],size[1]))\n",
    "    return np.random.random((size[0],size[1]))\n"
   ]
  },
  {
   "cell_type": "code",
   "execution_count": 71,
   "metadata": {},
   "outputs": [],
   "source": [
    "def pair_of_random_numbers(n):\n",
    "    array = generate_random([n,2])\n",
    "\n",
    "    file = open(\"function1.txt\", \"w\")\n",
    "    for i in range(n):\n",
    "        file.write(f\"{array[i][0]};{array[i][1]}\\n\")\n",
    "\n",
    "    file.close()\n",
    "\n",
    "pair_of_random_numbers(5000)"
   ]
  },
  {
   "cell_type": "code",
   "execution_count": 83,
   "metadata": {},
   "outputs": [],
   "source": [
    "def pair_of_random_numbers_csv(n):\n",
    "    array = generate_random([n,2])\n",
    "\n",
    "    file = open(\"function1.csv\", \"w\", newline='')\n",
    "    writer = csv.writer(file)\n",
    "   \n",
    "    for i in range(n):\n",
    "        writer.writerow(array[i])\n",
    "\n",
    "    file.close()\n",
    "\n",
    "pair_of_random_numbers_csv(5000)"
   ]
  },
  {
   "cell_type": "code",
   "execution_count": 79,
   "metadata": {},
   "outputs": [],
   "source": [
    "def notRandom_and_random(n):\n",
    "    array = generate_random([n,1])\n",
    "    \n",
    "    file = open(\"function2.txt\", \"w\")\n",
    "    for i in range(n):\n",
    "        file.write(f\"{i+1};{array[i][0]}\\n\")\n",
    "\n",
    "    file.close()\n",
    "\n",
    "notRandom_and_random(10)"
   ]
  },
  {
   "cell_type": "code",
   "execution_count": 99,
   "metadata": {},
   "outputs": [
    {
     "ename": "IndexError",
     "evalue": "index 1 is out of bounds for axis 1 with size 1",
     "output_type": "error",
     "traceback": [
      "\u001b[1;31m---------------------------------------------------------------------------\u001b[0m",
      "\u001b[1;31mIndexError\u001b[0m                                Traceback (most recent call last)",
      "Cell \u001b[1;32mIn[99], line 28\u001b[0m\n\u001b[0;32m     25\u001b[0m     \u001b[39m# Display the plot\u001b[39;00m\n\u001b[0;32m     26\u001b[0m     plt\u001b[39m.\u001b[39mshow()\n\u001b[1;32m---> 28\u001b[0m notRandom_and_random_csv(\u001b[39m10\u001b[39;49m)\n",
      "Cell \u001b[1;32mIn[99], line 15\u001b[0m, in \u001b[0;36mnotRandom_and_random_csv\u001b[1;34m(n)\u001b[0m\n\u001b[0;32m     10\u001b[0m file\u001b[39m.\u001b[39mclose()\n\u001b[0;32m     14\u001b[0m x_coords \u001b[39m=\u001b[39m array[:, \u001b[39m0\u001b[39m]\n\u001b[1;32m---> 15\u001b[0m y_coords \u001b[39m=\u001b[39m array[:, \u001b[39m1\u001b[39;49m]\n\u001b[0;32m     17\u001b[0m \u001b[39m# Create a scatter plot with the X and Y coordinates\u001b[39;00m\n\u001b[0;32m     18\u001b[0m plt\u001b[39m.\u001b[39mscatter(x_coords, y_coords)\n",
      "\u001b[1;31mIndexError\u001b[0m: index 1 is out of bounds for axis 1 with size 1"
     ]
    }
   ],
   "source": [
    "def notRandom_and_random_csv(n):\n",
    "    array = generate_random([n,1])\n",
    "\n",
    "    file = open(\"function2.csv\", \"w\", newline='')\n",
    "    writer = csv.writer(file)\n",
    "   \n",
    "    for i in range(n):\n",
    "        writer.writerow([i+1, array[i][0]])\n",
    "\n",
    "    file.close()\n",
    "\n",
    "\n",
    "\n",
    "    x_coords = array[:, 0]\n",
    "    y_coords = array[:, 1]\n",
    "    \n",
    "    # Create a scatter plot with the X and Y coordinates\n",
    "    plt.scatter(x_coords, y_coords)\n",
    "    \n",
    "    # Set the plot title and axis labels\n",
    "    plt.title(\"Bidimensional Array Plot\")\n",
    "    plt.xlabel(\"X Coordinate\")\n",
    "    plt.ylabel(\"Y Coordinate\")\n",
    "    \n",
    "    # Display the plot\n",
    "    plt.show()\n",
    "\n",
    "notRandom_and_random_csv(10)"
   ]
  }
 ],
 "metadata": {
  "kernelspec": {
   "display_name": "Python 3",
   "language": "python",
   "name": "python3"
  },
  "language_info": {
   "codemirror_mode": {
    "name": "ipython",
    "version": 3
   },
   "file_extension": ".py",
   "mimetype": "text/x-python",
   "name": "python",
   "nbconvert_exporter": "python",
   "pygments_lexer": "ipython3",
   "version": "3.11.1"
  },
  "orig_nbformat": 4
 },
 "nbformat": 4,
 "nbformat_minor": 2
}
