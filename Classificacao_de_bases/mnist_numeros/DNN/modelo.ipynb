{
 "cells": [
  {
   "cell_type": "code",
   "execution_count": 1,
   "metadata": {},
   "outputs": [],
   "source": [
    "import tensorflow as tf\n",
    "from tensorflow import keras\n",
    "\n",
    "import numpy as np\n",
    "import matplotlib.pyplot as plt\n",
    "\n",
    "import csv\n",
    "\n",
    "import pandas as pd"
   ]
  },
  {
   "cell_type": "code",
   "execution_count": 2,
   "metadata": {},
   "outputs": [],
   "source": [
    "def read_csv(file_path):\n",
    "    lines = []\n",
    "    labels = []\n",
    "    with open(file_path, \"r\") as file:\n",
    "        csvreader = csv.reader(file)\n",
    "\n",
    "        for row in csvreader:\n",
    "            try:\n",
    "                lines.append(np.asarray(row, dtype=float))\n",
    "            except:\n",
    "                pass\n",
    "    \n",
    "    return lines"
   ]
  },
  {
   "cell_type": "code",
   "execution_count": 3,
   "metadata": {},
   "outputs": [],
   "source": [
    "def load_dataset(dataset_file):\n",
    "\n",
    "    loaded_dataset = read_csv(dataset_file)\n",
    "\n",
    "    m = len(loaded_dataset)\n",
    "    n = len(loaded_dataset[0])\n",
    "\n",
    "    x = []\n",
    "    y = []\n",
    "\n",
    "    for i in range(0, m):\n",
    "        y.append(loaded_dataset[i][0])\n",
    "        x.append([])\n",
    "\n",
    "        for j in range(1 , n):\n",
    "            x[-1].append( loaded_dataset[i][j])\n",
    "\n",
    "    x = np.array(x)\n",
    "    x /= 255.0\n",
    "\n",
    "    x = x.reshape((-1, 28, 28))\n",
    "\n",
    "    y = np.array(y)\n",
    "\n",
    "    return x, y\n"
   ]
  },
  {
   "cell_type": "code",
   "execution_count": 4,
   "metadata": {},
   "outputs": [],
   "source": [
    "x_dataset, y_dataset = load_dataset(\"../mnist_train.csv\")"
   ]
  },
  {
   "cell_type": "code",
   "execution_count": 5,
   "metadata": {},
   "outputs": [],
   "source": [
    "x_test, y_test = load_dataset(\"../mnist_test.csv\")"
   ]
  },
  {
   "cell_type": "code",
   "execution_count": 6,
   "metadata": {},
   "outputs": [],
   "source": [
    "model = keras.Sequential([\n",
    "    keras.layers.Flatten(input_shape=(28, 28)),  # input layer (1)\n",
    "    keras.layers.Dense(128, activation='relu'),  # hidden layer (2) with 128 neurons\n",
    "    keras.layers.Dense(10, activation='softmax') # output layer (3)\n",
    "])\n",
    "\n",
    "model.compile(optimizer='adam',\n",
    "              loss='sparse_categorical_crossentropy',\n",
    "              metrics=['accuracy']\n",
    ")\n"
   ]
  },
  {
   "cell_type": "code",
   "execution_count": 7,
   "metadata": {},
   "outputs": [
    {
     "name": "stdout",
     "output_type": "stream",
     "text": [
      "Epoch 1/17\n",
      "1875/1875 [==============================] - 6s 3ms/step - loss: 0.2585 - accuracy: 0.9266\n",
      "Epoch 2/17\n",
      "1875/1875 [==============================] - 6s 3ms/step - loss: 0.1148 - accuracy: 0.9659\n",
      "Epoch 3/17\n",
      "1875/1875 [==============================] - 6s 3ms/step - loss: 0.0790 - accuracy: 0.9762\n",
      "Epoch 4/17\n",
      "1875/1875 [==============================] - 6s 3ms/step - loss: 0.0594 - accuracy: 0.9817\n",
      "Epoch 5/17\n",
      "1875/1875 [==============================] - 6s 3ms/step - loss: 0.0465 - accuracy: 0.9854\n",
      "Epoch 6/17\n",
      "1875/1875 [==============================] - 6s 3ms/step - loss: 0.0370 - accuracy: 0.9887\n",
      "Epoch 7/17\n",
      "1875/1875 [==============================] - 6s 3ms/step - loss: 0.0298 - accuracy: 0.9906\n",
      "Epoch 8/17\n",
      "1875/1875 [==============================] - 6s 3ms/step - loss: 0.0240 - accuracy: 0.9925\n",
      "Epoch 9/17\n",
      "1875/1875 [==============================] - 6s 3ms/step - loss: 0.0197 - accuracy: 0.9939\n",
      "Epoch 10/17\n",
      "1875/1875 [==============================] - 6s 3ms/step - loss: 0.0167 - accuracy: 0.9947\n",
      "Epoch 11/17\n",
      "1875/1875 [==============================] - 6s 3ms/step - loss: 0.0150 - accuracy: 0.9954\n",
      "Epoch 12/17\n",
      "1875/1875 [==============================] - 6s 3ms/step - loss: 0.0121 - accuracy: 0.9963\n",
      "Epoch 13/17\n",
      "1875/1875 [==============================] - 6s 3ms/step - loss: 0.0101 - accuracy: 0.9968\n",
      "Epoch 14/17\n",
      "1875/1875 [==============================] - 6s 3ms/step - loss: 0.0085 - accuracy: 0.9974\n",
      "Epoch 15/17\n",
      "1875/1875 [==============================] - 6s 3ms/step - loss: 0.0099 - accuracy: 0.9972\n",
      "Epoch 16/17\n",
      "1875/1875 [==============================] - 6s 3ms/step - loss: 0.0074 - accuracy: 0.9979\n",
      "Epoch 17/17\n",
      "1875/1875 [==============================] - 6s 3ms/step - loss: 0.0080 - accuracy: 0.9974\n"
     ]
    },
    {
     "data": {
      "text/plain": [
       "<keras.callbacks.History at 0x231da7ed050>"
      ]
     },
     "execution_count": 7,
     "metadata": {},
     "output_type": "execute_result"
    }
   ],
   "source": [
    "model.fit(x_dataset, y_dataset, epochs=17)  # we pass the data, labels and epochs and watch the magic!"
   ]
  },
  {
   "cell_type": "code",
   "execution_count": 8,
   "metadata": {},
   "outputs": [
    {
     "name": "stdout",
     "output_type": "stream",
     "text": [
      "313/313 [==============================] - 1s 2ms/step - loss: 0.0964 - accuracy: 0.9784\n",
      "Test accuracy: 0.9783999919891357\n"
     ]
    }
   ],
   "source": [
    "test_loss, test_acc = model.evaluate(x_test, y_test, verbose=1) \n",
    "\n",
    "print('Test accuracy:', test_acc)"
   ]
  },
  {
   "cell_type": "code",
   "execution_count": 9,
   "metadata": {},
   "outputs": [
    {
     "name": "stdout",
     "output_type": "stream",
     "text": [
      "313/313 [==============================] - 1s 2ms/step\n"
     ]
    }
   ],
   "source": [
    "predictions = model.predict(x_test)\n"
   ]
  },
  {
   "cell_type": "code",
   "execution_count": 10,
   "metadata": {},
   "outputs": [],
   "source": [
    "keras.models.save_model(model, \"modelo2.h5\")"
   ]
  },
  {
   "cell_type": "code",
   "execution_count": 13,
   "metadata": {},
   "outputs": [
    {
     "name": "stdout",
     "output_type": "stream",
     "text": [
      "Saved model to disk\n"
     ]
    }
   ],
   "source": [
    "model_json = model.to_json()\n",
    "with open(\"model.json\", \"w\") as json_file:\n",
    "    json_file.write(model_json)\n",
    "\n",
    "model.save_weights(\"model.h5\")\n",
    "print(\"Saved model to disk\")"
   ]
  }
 ],
 "metadata": {
  "kernelspec": {
   "display_name": "Python 3",
   "language": "python",
   "name": "python3"
  },
  "language_info": {
   "codemirror_mode": {
    "name": "ipython",
    "version": 3
   },
   "file_extension": ".py",
   "mimetype": "text/x-python",
   "name": "python",
   "nbconvert_exporter": "python",
   "pygments_lexer": "ipython3",
   "version": "3.11.3"
  },
  "orig_nbformat": 4
 },
 "nbformat": 4,
 "nbformat_minor": 2
}
