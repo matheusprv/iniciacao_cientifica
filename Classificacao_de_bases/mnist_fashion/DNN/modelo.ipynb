{
 "cells": [
  {
   "cell_type": "code",
   "execution_count": 1,
   "metadata": {},
   "outputs": [],
   "source": [
    "import tensorflow as tf\n",
    "from tensorflow import keras\n",
    "\n",
    "import numpy as np\n",
    "import matplotlib.pyplot as plt\n",
    "\n",
    "import csv\n",
    "\n",
    "import pandas as pd\n",
    "\n",
    "import load_dataset as ld"
   ]
  },
  {
   "cell_type": "code",
   "execution_count": 2,
   "metadata": {},
   "outputs": [
    {
     "name": "stdout",
     "output_type": "stream",
     "text": [
      "c:\\Users\\mathe\\OneDrive\\Área de Trabalho\\iniciacao_cientifica\\Classificacao_de_bases\\mnist_fashion\\DNN\n"
     ]
    }
   ],
   "source": [
    "x_dataset, y_dataset = ld.load_dataset(\"../fashion-mnist_train.csv\", 28, 28)"
   ]
  },
  {
   "cell_type": "code",
   "execution_count": 3,
   "metadata": {},
   "outputs": [
    {
     "name": "stdout",
     "output_type": "stream",
     "text": [
      "c:\\Users\\mathe\\OneDrive\\Área de Trabalho\\iniciacao_cientifica\\Classificacao_de_bases\\mnist_fashion\\DNN\n"
     ]
    }
   ],
   "source": [
    "x_test, y_test = ld.load_dataset(\"../fashion-mnist_test.csv\", 28, 28)"
   ]
  },
  {
   "cell_type": "code",
   "execution_count": 4,
   "metadata": {},
   "outputs": [],
   "source": [
    "model = keras.Sequential([\n",
    "    keras.layers.Flatten(input_shape=(28, 28)),  # input layer (1)\n",
    "    keras.layers.Dense(128, activation='relu'),  # hidden layer (2) with 128 neurons\n",
    "    keras.layers.Dense(10, activation='softmax') # output layer (3)\n",
    "])\n",
    "\n",
    "opt = keras.optimizers.Adam(learning_rate=0.01)\n",
    "model.compile(optimizer = opt,\n",
    "              loss='sparse_categorical_crossentropy',\n",
    "              metrics=['accuracy']\n",
    ")\n"
   ]
  },
  {
   "cell_type": "code",
   "execution_count": 5,
   "metadata": {},
   "outputs": [
    {
     "name": "stdout",
     "output_type": "stream",
     "text": [
      "Epoch 1/22\n",
      "1875/1875 [==============================] - 7s 3ms/step - loss: 0.5015 - accuracy: 0.8248\n",
      "Epoch 2/22\n",
      "1875/1875 [==============================] - 6s 3ms/step - loss: 0.3795 - accuracy: 0.8644\n",
      "Epoch 3/22\n",
      "1875/1875 [==============================] - 6s 3ms/step - loss: 0.3440 - accuracy: 0.8759\n",
      "Epoch 4/22\n",
      "1875/1875 [==============================] - 6s 3ms/step - loss: 0.3175 - accuracy: 0.8840\n",
      "Epoch 5/22\n",
      "1875/1875 [==============================] - 6s 3ms/step - loss: 0.3012 - accuracy: 0.8900\n",
      "Epoch 6/22\n",
      "1875/1875 [==============================] - 6s 3ms/step - loss: 0.2859 - accuracy: 0.8955\n",
      "Epoch 7/22\n",
      "1875/1875 [==============================] - 6s 3ms/step - loss: 0.2740 - accuracy: 0.8989\n",
      "Epoch 8/22\n",
      "1875/1875 [==============================] - 6s 3ms/step - loss: 0.2624 - accuracy: 0.9026\n",
      "Epoch 9/22\n",
      "1875/1875 [==============================] - 7s 4ms/step - loss: 0.2531 - accuracy: 0.9048\n",
      "Epoch 10/22\n",
      "1875/1875 [==============================] - 7s 4ms/step - loss: 0.2445 - accuracy: 0.9096\n",
      "Epoch 11/22\n",
      "1875/1875 [==============================] - 7s 4ms/step - loss: 0.2378 - accuracy: 0.9111\n",
      "Epoch 12/22\n",
      "1875/1875 [==============================] - 7s 4ms/step - loss: 0.2334 - accuracy: 0.9138\n",
      "Epoch 13/22\n",
      "1875/1875 [==============================] - 6s 3ms/step - loss: 0.2230 - accuracy: 0.9170\n",
      "Epoch 14/22\n",
      "1875/1875 [==============================] - 7s 4ms/step - loss: 0.2148 - accuracy: 0.9191\n",
      "Epoch 15/22\n",
      "1875/1875 [==============================] - 6s 3ms/step - loss: 0.2121 - accuracy: 0.9207\n",
      "Epoch 16/22\n",
      "1875/1875 [==============================] - 6s 3ms/step - loss: 0.2048 - accuracy: 0.9233\n",
      "Epoch 17/22\n",
      "1875/1875 [==============================] - 6s 3ms/step - loss: 0.1991 - accuracy: 0.9266\n",
      "Epoch 18/22\n",
      "1875/1875 [==============================] - 6s 3ms/step - loss: 0.1948 - accuracy: 0.9273\n",
      "Epoch 19/22\n",
      "1875/1875 [==============================] - 6s 3ms/step - loss: 0.1884 - accuracy: 0.9298\n",
      "Epoch 20/22\n",
      "1875/1875 [==============================] - 6s 3ms/step - loss: 0.1851 - accuracy: 0.9311\n",
      "Epoch 21/22\n",
      "1875/1875 [==============================] - 6s 3ms/step - loss: 0.1808 - accuracy: 0.9331\n",
      "Epoch 22/22\n",
      "1875/1875 [==============================] - 6s 3ms/step - loss: 0.1749 - accuracy: 0.9348\n"
     ]
    },
    {
     "data": {
      "text/plain": [
       "<keras.callbacks.History at 0x1d18c267450>"
      ]
     },
     "execution_count": 5,
     "metadata": {},
     "output_type": "execute_result"
    }
   ],
   "source": [
    "model.fit(x_dataset, y_dataset, epochs=22)"
   ]
  },
  {
   "cell_type": "code",
   "execution_count": 6,
   "metadata": {},
   "outputs": [
    {
     "name": "stdout",
     "output_type": "stream",
     "text": [
      "313/313 [==============================] - 1s 2ms/step - loss: 0.3421 - accuracy: 0.8909\n",
      "Test accuracy: 0.8909000158309937\n"
     ]
    }
   ],
   "source": [
    "test_loss, test_acc = model.evaluate(x_test, y_test, verbose=1) \n",
    "\n",
    "print('Test accuracy:', test_acc)"
   ]
  },
  {
   "cell_type": "code",
   "execution_count": 7,
   "metadata": {},
   "outputs": [
    {
     "name": "stdout",
     "output_type": "stream",
     "text": [
      "313/313 [==============================] - 1s 2ms/step\n"
     ]
    }
   ],
   "source": [
    "predictions = model.predict(x_test)"
   ]
  },
  {
   "cell_type": "code",
   "execution_count": 9,
   "metadata": {},
   "outputs": [
    {
     "name": "stdout",
     "output_type": "stream",
     "text": [
      "Saved model to disk\n"
     ]
    }
   ],
   "source": [
    "#keras.models.save_model(model, \"modelo.h5\")\n",
    "\n",
    "model_json = model.to_json()\n",
    "with open(\"modelo.json\", \"w\") as json_file:\n",
    "    json_file.write(model_json)\n",
    "\n",
    "model.save_weights(\"model.h5\")\n",
    "print(\"Saved model to disk\")"
   ]
  }
 ],
 "metadata": {
  "kernelspec": {
   "display_name": "Python 3",
   "language": "python",
   "name": "python3"
  },
  "language_info": {
   "codemirror_mode": {
    "name": "ipython",
    "version": 3
   },
   "file_extension": ".py",
   "mimetype": "text/x-python",
   "name": "python",
   "nbconvert_exporter": "python",
   "pygments_lexer": "ipython3",
   "version": "3.11.3"
  },
  "orig_nbformat": 4
 },
 "nbformat": 4,
 "nbformat_minor": 2
}
