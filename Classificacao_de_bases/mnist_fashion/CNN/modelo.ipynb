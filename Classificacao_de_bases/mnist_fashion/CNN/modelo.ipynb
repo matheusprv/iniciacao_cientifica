{
 "cells": [
  {
   "cell_type": "code",
   "execution_count": 1,
   "metadata": {},
   "outputs": [],
   "source": [
    "import tensorflow as tf\n",
    "from tensorflow import keras\n",
    "import numpy as np\n",
    "import matplotlib.pyplot as plt\n",
    "from tensorflow.keras.callbacks import ModelCheckpoint\n",
    "\n",
    "import load_dataset as ld\n",
    "\n",
    "class_names = [\"T-shirt/top\", \"Trouser\", \"Pullover\", \"Dress\", \"Coat\", \"Sandal\", \"Shirt\", \"Sneaker\", \"Bag\", \"Ankle boot\"]"
   ]
  },
  {
   "cell_type": "code",
   "execution_count": 2,
   "metadata": {},
   "outputs": [
    {
     "name": "stdout",
     "output_type": "stream",
     "text": [
      "c:\\Users\\mathe\\OneDrive\\Área de Trabalho\\iniciacao_cientifica\\Classificacao_de_bases\\mnist_fashion\\CNN\n"
     ]
    }
   ],
   "source": [
    "x_dataset, y_dataset = ld.load_dataset(\"../fashion-mnist_train.csv\", 28, 28)"
   ]
  },
  {
   "cell_type": "code",
   "execution_count": 3,
   "metadata": {},
   "outputs": [
    {
     "name": "stdout",
     "output_type": "stream",
     "text": [
      "c:\\Users\\mathe\\OneDrive\\Área de Trabalho\\iniciacao_cientifica\\Classificacao_de_bases\\mnist_fashion\\CNN\n"
     ]
    }
   ],
   "source": [
    "x_test, y_test = ld.load_dataset(\"../fashion-mnist_test.csv\", 28, 28)"
   ]
  },
  {
   "cell_type": "code",
   "execution_count": 16,
   "metadata": {},
   "outputs": [],
   "source": [
    "model = keras.models.Sequential()\n",
    "\n",
    "#layers.Conv2D(Number_of_filters, (filter_width, filter_heigth)\n",
    "model.add(keras.layers.Conv2D(32, (3, 3), activation='relu', input_shape=(28, 28, 1)))\n",
    "model.add(keras.layers.MaxPooling2D((2, 2)))\n",
    "\n",
    "model.add(keras.layers.Conv2D(64, (3, 3), activation='relu'))\n",
    "model.add(keras.layers.MaxPooling2D((2, 2)))\n",
    "\n",
    "# model.add(keras.layers.Conv2D(128, (3, 3), activation='relu'))\n",
    "# model.add(keras.layers.MaxPooling2D((2, 2)))\n",
    "\n",
    "\n",
    "#Adding Dense Layers\n",
    "model.add(keras.layers.Flatten())\n",
    "model.add(keras.layers.Dense(64, activation='relu'))\n",
    "model.add(keras.layers.Dense(32, activation='relu'))\n",
    "model.add(keras.layers.Dense(16, activation='relu'))\n",
    "model.add(keras.layers.Dense(10))"
   ]
  },
  {
   "cell_type": "code",
   "execution_count": 17,
   "metadata": {},
   "outputs": [
    {
     "name": "stdout",
     "output_type": "stream",
     "text": [
      "<class 'numpy.ndarray'>\n",
      "Epoch 1/10\n",
      "1875/1875 [==============================] - ETA: 0s - loss: 0.5488 - accuracy: 0.7960\n",
      "Epoch 1: val_accuracy improved from -inf to 0.86300, saving model to best_model_2.h5\n",
      "1875/1875 [==============================] - 39s 20ms/step - loss: 0.5488 - accuracy: 0.7960 - val_loss: 0.3794 - val_accuracy: 0.8630\n",
      "Epoch 2/10\n",
      "1873/1875 [============================>.] - ETA: 0s - loss: 0.3440 - accuracy: 0.8752\n",
      "Epoch 2: val_accuracy improved from 0.86300 to 0.88180, saving model to best_model_2.h5\n",
      "1875/1875 [==============================] - 37s 20ms/step - loss: 0.3440 - accuracy: 0.8752 - val_loss: 0.3250 - val_accuracy: 0.8818\n",
      "Epoch 3/10\n",
      "1873/1875 [============================>.] - ETA: 0s - loss: 0.2926 - accuracy: 0.8940\n",
      "Epoch 3: val_accuracy improved from 0.88180 to 0.89840, saving model to best_model_2.h5\n",
      "1875/1875 [==============================] - 35s 19ms/step - loss: 0.2925 - accuracy: 0.8939 - val_loss: 0.2816 - val_accuracy: 0.8984\n",
      "Epoch 4/10\n",
      "1874/1875 [============================>.] - ETA: 0s - loss: 0.2618 - accuracy: 0.9048\n",
      "Epoch 4: val_accuracy improved from 0.89840 to 0.90350, saving model to best_model_2.h5\n",
      "1875/1875 [==============================] - 36s 19ms/step - loss: 0.2618 - accuracy: 0.9048 - val_loss: 0.2632 - val_accuracy: 0.9035\n",
      "Epoch 5/10\n",
      "1874/1875 [============================>.] - ETA: 0s - loss: 0.2375 - accuracy: 0.9113\n",
      "Epoch 5: val_accuracy did not improve from 0.90350\n",
      "1875/1875 [==============================] - 38s 20ms/step - loss: 0.2375 - accuracy: 0.9113 - val_loss: 0.2744 - val_accuracy: 0.8977\n",
      "Epoch 6/10\n",
      "1875/1875 [==============================] - ETA: 0s - loss: 0.2161 - accuracy: 0.9194\n",
      "Epoch 6: val_accuracy improved from 0.90350 to 0.90610, saving model to best_model_2.h5\n",
      "1875/1875 [==============================] - 35s 19ms/step - loss: 0.2161 - accuracy: 0.9194 - val_loss: 0.2583 - val_accuracy: 0.9061\n",
      "Epoch 7/10\n",
      "1873/1875 [============================>.] - ETA: 0s - loss: 0.1986 - accuracy: 0.9264\n",
      "Epoch 7: val_accuracy improved from 0.90610 to 0.91360, saving model to best_model_2.h5\n",
      "1875/1875 [==============================] - 44s 23ms/step - loss: 0.1986 - accuracy: 0.9264 - val_loss: 0.2422 - val_accuracy: 0.9136\n",
      "Epoch 8/10\n",
      "1875/1875 [==============================] - ETA: 0s - loss: 0.1842 - accuracy: 0.9316\n",
      "Epoch 8: val_accuracy did not improve from 0.91360\n",
      "1875/1875 [==============================] - 32s 17ms/step - loss: 0.1842 - accuracy: 0.9316 - val_loss: 0.2435 - val_accuracy: 0.9097\n",
      "Epoch 9/10\n",
      "1874/1875 [============================>.] - ETA: 0s - loss: 0.1689 - accuracy: 0.9365\n",
      "Epoch 9: val_accuracy did not improve from 0.91360\n",
      "1875/1875 [==============================] - 33s 18ms/step - loss: 0.1689 - accuracy: 0.9365 - val_loss: 0.2618 - val_accuracy: 0.9122\n",
      "Epoch 10/10\n",
      "1872/1875 [============================>.] - ETA: 0s - loss: 0.1554 - accuracy: 0.9427\n",
      "Epoch 10: val_accuracy did not improve from 0.91360\n",
      "1875/1875 [==============================] - 31s 16ms/step - loss: 0.1555 - accuracy: 0.9426 - val_loss: 0.2499 - val_accuracy: 0.9122\n"
     ]
    }
   ],
   "source": [
    "filepath = \"best_model_2.h5\"\n",
    "checkpoint = ModelCheckpoint(filepath, monitor='val_accuracy', save_best_only=True, mode='max', verbose=1)\n",
    "\n",
    "model.compile(optimizer='adam',\n",
    "              loss=tf.keras.losses.SparseCategoricalCrossentropy(from_logits=True),\n",
    "              metrics=['accuracy'])\n",
    "\n",
    "print(type(x_dataset))\n",
    "\n"
   ]
  },
  {
   "cell_type": "code",
   "execution_count": 18,
   "metadata": {},
   "outputs": [
    {
     "name": "stdout",
     "output_type": "stream",
     "text": [
      "Epoch 1/10\n",
      "1873/1875 [============================>.] - ETA: 0s - loss: 0.1441 - accuracy: 0.9454\n",
      "Epoch 1: val_accuracy did not improve from 0.91360\n",
      "1875/1875 [==============================] - 36s 19ms/step - loss: 0.1442 - accuracy: 0.9454 - val_loss: 0.2605 - val_accuracy: 0.9133\n",
      "Epoch 2/10\n",
      "1873/1875 [============================>.] - ETA: 0s - loss: 0.1363 - accuracy: 0.9490\n",
      "Epoch 2: val_accuracy improved from 0.91360 to 0.91460, saving model to best_model_2.h5\n",
      "1875/1875 [==============================] - 39s 21ms/step - loss: 0.1362 - accuracy: 0.9490 - val_loss: 0.2609 - val_accuracy: 0.9146\n",
      "Epoch 3/10\n",
      "1872/1875 [============================>.] - ETA: 0s - loss: 0.1245 - accuracy: 0.9530\n",
      "Epoch 3: val_accuracy did not improve from 0.91460\n",
      "1875/1875 [==============================] - 34s 18ms/step - loss: 0.1246 - accuracy: 0.9530 - val_loss: 0.2826 - val_accuracy: 0.9074\n",
      "Epoch 4/10\n",
      "1872/1875 [============================>.] - ETA: 0s - loss: 0.1161 - accuracy: 0.9569\n",
      "Epoch 4: val_accuracy did not improve from 0.91460\n",
      "1875/1875 [==============================] - 34s 18ms/step - loss: 0.1164 - accuracy: 0.9568 - val_loss: 0.2863 - val_accuracy: 0.9128\n",
      "Epoch 5/10\n",
      "1874/1875 [============================>.] - ETA: 0s - loss: 0.1097 - accuracy: 0.9587\n",
      "Epoch 5: val_accuracy did not improve from 0.91460\n",
      "1875/1875 [==============================] - 34s 18ms/step - loss: 0.1097 - accuracy: 0.9587 - val_loss: 0.2821 - val_accuracy: 0.9141\n",
      "Epoch 6/10\n",
      "1872/1875 [============================>.] - ETA: 0s - loss: 0.1012 - accuracy: 0.9624\n",
      "Epoch 6: val_accuracy did not improve from 0.91460\n",
      "1875/1875 [==============================] - 35s 19ms/step - loss: 0.1011 - accuracy: 0.9624 - val_loss: 0.2986 - val_accuracy: 0.9126\n",
      "Epoch 7/10\n",
      "1873/1875 [============================>.] - ETA: 0s - loss: 0.0947 - accuracy: 0.9646\n",
      "Epoch 7: val_accuracy did not improve from 0.91460\n",
      "1875/1875 [==============================] - 38s 20ms/step - loss: 0.0947 - accuracy: 0.9646 - val_loss: 0.3034 - val_accuracy: 0.9114\n",
      "Epoch 8/10\n",
      "1875/1875 [==============================] - ETA: 0s - loss: 0.0890 - accuracy: 0.9663\n",
      "Epoch 8: val_accuracy did not improve from 0.91460\n",
      "1875/1875 [==============================] - 33s 18ms/step - loss: 0.0890 - accuracy: 0.9663 - val_loss: 0.3472 - val_accuracy: 0.9109\n",
      "Epoch 9/10\n",
      "1874/1875 [============================>.] - ETA: 0s - loss: 0.0834 - accuracy: 0.9689\n",
      "Epoch 9: val_accuracy did not improve from 0.91460\n",
      "1875/1875 [==============================] - 41s 22ms/step - loss: 0.0834 - accuracy: 0.9689 - val_loss: 0.3726 - val_accuracy: 0.9099\n",
      "Epoch 10/10\n",
      "1875/1875 [==============================] - ETA: 0s - loss: 0.0768 - accuracy: 0.9712\n",
      "Epoch 10: val_accuracy did not improve from 0.91460\n",
      "1875/1875 [==============================] - 44s 23ms/step - loss: 0.0768 - accuracy: 0.9712 - val_loss: 0.3626 - val_accuracy: 0.9109\n"
     ]
    }
   ],
   "source": [
    "history = model.fit(x_dataset, y_dataset, epochs=10, validation_data=(x_test, y_test), callbacks=[checkpoint])"
   ]
  },
  {
   "cell_type": "code",
   "execution_count": 11,
   "metadata": {},
   "outputs": [],
   "source": [
    "model.save(\"modelo_teste_com_erro.h5\")"
   ]
  },
  {
   "cell_type": "code",
   "execution_count": 13,
   "metadata": {},
   "outputs": [],
   "source": [
    "#model.save_weights(\"temp-model.h5\")\n",
    "model.load_weights(\"best_model.h5\")\n",
    "model.compile(optimizer='adam',\n",
    "              loss=tf.keras.losses.SparseCategoricalCrossentropy(from_logits=True),\n",
    "              metrics=['accuracy'])"
   ]
  },
  {
   "cell_type": "code",
   "execution_count": 14,
   "metadata": {},
   "outputs": [
    {
     "name": "stdout",
     "output_type": "stream",
     "text": [
      "313/313 [==============================] - 2s 6ms/step - loss: 0.2489 - accuracy: 0.9171\n",
      "Test accuracy: 0.9171000123023987\n"
     ]
    }
   ],
   "source": [
    "test_loss, test_acc = model.evaluate(x_test, y_test, verbose=1) \n",
    "print('Test accuracy:', test_acc)"
   ]
  },
  {
   "cell_type": "code",
   "execution_count": 15,
   "metadata": {},
   "outputs": [],
   "source": [
    "model_json = model.to_json()\n",
    "with open(\"model.json\", \"w\") as json_file:\n",
    "    json_file.write(model_json)\n"
   ]
  },
  {
   "cell_type": "code",
   "execution_count": null,
   "metadata": {},
   "outputs": [],
   "source": [
    "model.save_weights(\"model.h5\")\n",
    "print(\"Saved model to disk\")"
   ]
  }
 ],
 "metadata": {
  "kernelspec": {
   "display_name": "Python 3",
   "language": "python",
   "name": "python3"
  },
  "language_info": {
   "codemirror_mode": {
    "name": "ipython",
    "version": 3
   },
   "file_extension": ".py",
   "mimetype": "text/x-python",
   "name": "python",
   "nbconvert_exporter": "python",
   "pygments_lexer": "ipython3",
   "version": "3.11.3"
  },
  "orig_nbformat": 4
 },
 "nbformat": 4,
 "nbformat_minor": 2
}
