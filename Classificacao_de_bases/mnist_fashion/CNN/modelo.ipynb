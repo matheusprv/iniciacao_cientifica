{
 "cells": [
  {
   "cell_type": "code",
   "execution_count": 1,
   "metadata": {},
   "outputs": [],
   "source": [
    "import tensorflow as tf\n",
    "from tensorflow import keras\n",
    "import numpy as np\n",
    "import matplotlib.pyplot as plt\n",
    "import csv\n",
    "\n",
    "import load_dataset as ld\n",
    "\n",
    "class_names = [\"T-shirt/top\", \"Trouser\", \"Pullover\", \"Dress\", \"Coat\", \"Sandal\", \"Shirt\", \"Sneaker\", \"Bag\", \"Ankle boot\"]"
   ]
  },
  {
   "cell_type": "code",
   "execution_count": 2,
   "metadata": {},
   "outputs": [
    {
     "name": "stdout",
     "output_type": "stream",
     "text": [
      "c:\\Users\\mathe\\OneDrive\\Área de Trabalho\\iniciacao_cientifica\\Classificacao_de_bases\\mnist_fashion\\CNN\n"
     ]
    }
   ],
   "source": [
    "x_dataset, y_dataset = ld.load_dataset(\"../fashion-mnist_train.csv\", 28, 28)"
   ]
  },
  {
   "cell_type": "code",
   "execution_count": 3,
   "metadata": {},
   "outputs": [
    {
     "name": "stdout",
     "output_type": "stream",
     "text": [
      "c:\\Users\\mathe\\OneDrive\\Área de Trabalho\\iniciacao_cientifica\\Classificacao_de_bases\\mnist_fashion\\CNN\n"
     ]
    }
   ],
   "source": [
    "x_test, y_test = ld.load_dataset(\"../fashion-mnist_test.csv\", 28, 28)"
   ]
  },
  {
   "cell_type": "code",
   "execution_count": 13,
   "metadata": {},
   "outputs": [],
   "source": [
    "model = keras.models.Sequential()\n",
    "\n",
    "#layers.Conv2D(Number_of_filters, (filter_width, filter_heigth)\n",
    "model.add(keras.layers.Conv2D(32, (3, 3), activation='relu', input_shape=(28, 28, 1)))\n",
    "model.add(keras.layers.MaxPooling2D((2, 2)))\n",
    "\n",
    "model.add(keras.layers.Conv2D(64, (3, 3), activation='relu'))\n",
    "model.add(keras.layers.MaxPooling2D((2, 2)))\n",
    "\n",
    "model.add(keras.layers.Conv2D(64, (3, 3), activation='relu'))\n",
    "\n",
    "#Adding Dense Layers\n",
    "model.add(keras.layers.Flatten())\n",
    "model.add(keras.layers.Dense(32, activation='relu'))\n",
    "model.add(keras.layers.Dense(10))"
   ]
  },
  {
   "cell_type": "code",
   "execution_count": 14,
   "metadata": {},
   "outputs": [
    {
     "name": "stdout",
     "output_type": "stream",
     "text": [
      "Epoch 1/7\n",
      "1875/1875 [==============================] - 36s 19ms/step - loss: 0.5192 - accuracy: 0.8087 - val_loss: 0.3569 - val_accuracy: 0.8752\n",
      "Epoch 2/7\n",
      "1875/1875 [==============================] - 34s 18ms/step - loss: 0.3345 - accuracy: 0.8789 - val_loss: 0.3236 - val_accuracy: 0.8804\n",
      "Epoch 3/7\n",
      "1875/1875 [==============================] - 34s 18ms/step - loss: 0.2888 - accuracy: 0.8944 - val_loss: 0.2794 - val_accuracy: 0.8987\n",
      "Epoch 4/7\n",
      "1875/1875 [==============================] - 37s 20ms/step - loss: 0.2566 - accuracy: 0.9059 - val_loss: 0.2664 - val_accuracy: 0.9026\n",
      "Epoch 5/7\n",
      "1875/1875 [==============================] - 34s 18ms/step - loss: 0.2326 - accuracy: 0.9149 - val_loss: 0.2489 - val_accuracy: 0.9074\n",
      "Epoch 6/7\n",
      "1875/1875 [==============================] - 34s 18ms/step - loss: 0.2110 - accuracy: 0.9229 - val_loss: 0.2355 - val_accuracy: 0.9124\n",
      "Epoch 7/7\n",
      "1875/1875 [==============================] - 36s 19ms/step - loss: 0.1916 - accuracy: 0.9296 - val_loss: 0.2497 - val_accuracy: 0.9106\n"
     ]
    }
   ],
   "source": [
    "model.compile(optimizer='adam',\n",
    "              loss=tf.keras.losses.SparseCategoricalCrossentropy(from_logits=True),\n",
    "              metrics=['accuracy'])\n",
    "\n",
    "history = model.fit(x_dataset, y_dataset, epochs=7, \n",
    "                    validation_data=(x_test, y_test))"
   ]
  },
  {
   "cell_type": "code",
   "execution_count": 15,
   "metadata": {},
   "outputs": [
    {
     "name": "stdout",
     "output_type": "stream",
     "text": [
      "313/313 [==============================] - 2s 6ms/step - loss: 0.2497 - accuracy: 0.9106\n",
      "Test accuracy: 0.9106000065803528\n"
     ]
    }
   ],
   "source": [
    "test_loss, test_acc = model.evaluate(x_test, y_test, verbose=1) \n",
    "print('Test accuracy:', test_acc)"
   ]
  },
  {
   "cell_type": "code",
   "execution_count": 10,
   "metadata": {},
   "outputs": [
    {
     "name": "stdout",
     "output_type": "stream",
     "text": [
      "Saved model to disk\n"
     ]
    }
   ],
   "source": [
    "model_json = model.to_json()\n",
    "with open(\"model.json\", \"w\") as json_file:\n",
    "    json_file.write(model_json)\n",
    "\n",
    "model.save_weights(\"model.h5\")\n",
    "print(\"Saved model to disk\")"
   ]
  }
 ],
 "metadata": {
  "kernelspec": {
   "display_name": "Python 3",
   "language": "python",
   "name": "python3"
  },
  "language_info": {
   "codemirror_mode": {
    "name": "ipython",
    "version": 3
   },
   "file_extension": ".py",
   "mimetype": "text/x-python",
   "name": "python",
   "nbconvert_exporter": "python",
   "pygments_lexer": "ipython3",
   "version": "3.11.3"
  },
  "orig_nbformat": 4
 },
 "nbformat": 4,
 "nbformat_minor": 2
}
