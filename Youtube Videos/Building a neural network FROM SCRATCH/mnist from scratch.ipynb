{
 "cells": [
  {
   "cell_type": "code",
   "execution_count": 1,
   "metadata": {},
   "outputs": [],
   "source": [
    "import numpy as np\n",
    "import pandas as pd\n",
    "from matplotlib import pyplot as plt\n",
    "\n",
    "np.random.seed(1)\n",
    "\n",
    "data = pd.read_csv(\"data/train.csv\")"
   ]
  },
  {
   "cell_type": "code",
   "execution_count": 2,
   "metadata": {},
   "outputs": [],
   "source": [
    "data = np.array(data)\n",
    "\n",
    "# m = number of examples\n",
    "# n = number of pixels from example\n",
    "m, n = data.shape\n",
    "\n",
    "np.random.shuffle(data) # shuffle before splitting into dev and training sets\n",
    "\n",
    "data_dev = data[0:1000].T\n",
    "Y_dev = data_dev[0]\n",
    "X_dev = data_dev[1: n] \n",
    "X_dev = X_dev / 255.\n",
    "\n",
    "data_train = data[1000: m].T\n",
    "Y_train = data_train[0]\n",
    "X_train = data_train[1: n] \n",
    "X_train = X_train / 255.\n",
    "_,m_train = X_train.shape\n"
   ]
  },
  {
   "cell_type": "code",
   "execution_count": 3,
   "metadata": {},
   "outputs": [
    {
     "data": {
      "text/plain": [
       "array([5, 7, 0, ..., 2, 1, 1], dtype=int64)"
      ]
     },
     "execution_count": 3,
     "metadata": {},
     "output_type": "execute_result"
    }
   ],
   "source": [
    "Y_train"
   ]
  },
  {
   "cell_type": "code",
   "execution_count": 4,
   "metadata": {},
   "outputs": [],
   "source": [
    "def init_params():\n",
    "    amount_of_neurons = 10\n",
    "    input_of_neurons = 784\n",
    "    \n",
    "    W1 = np.random.rand(10, 784) - 0.5  \n",
    "    b1 = np.random.rand(10, 1) - 0.5 \n",
    "\n",
    "    #The input will be the output from the previous \n",
    "    W2 = np.random.rand(10, 10) - 0.5  \n",
    "    b2 = np.random.rand(10, 1) - 0.5 \n",
    "\n",
    "    return W1, b1, W2, b2"
   ]
  },
  {
   "cell_type": "code",
   "execution_count": 5,
   "metadata": {},
   "outputs": [],
   "source": [
    "def ReLU(Z):\n",
    "    #return 1 if Z > 0 else 0\n",
    "    return np.maximum(Z, 0) # Return 0 if values is lower than 0, and 1 if it is greater\n",
    "\n",
    "def derivative_ReLU(Z):\n",
    "    return Z > 0\n",
    "\n",
    "def softmax(Z):\n",
    "    A = np.exp(Z) / sum(np.exp(Z))\n",
    "    return A"
   ]
  },
  {
   "cell_type": "code",
   "execution_count": 6,
   "metadata": {},
   "outputs": [],
   "source": [
    "def forward_propagation(W1, b1, W2, b2, X):\n",
    "    Z1 = W1.dot(X) + b1\n",
    "    A1 = ReLU(Z1)\n",
    "\n",
    "    Z2 = W2.dot(A1) + b2\n",
    "    A2 = softmax(Z2)\n",
    "\n",
    "    return Z1, A1, Z2, A2"
   ]
  },
  {
   "cell_type": "code",
   "execution_count": 7,
   "metadata": {},
   "outputs": [],
   "source": [
    "#check what number it is\n",
    "def one_hot(Y):\n",
    "    # Y.size = number of examples\n",
    "    # Y.max() + 1 = number of helper classes, going from 0 to 10\n",
    "    one_hot_Y = np.zeros((Y.size, Y.max() + 1))\n",
    "    #go to each row especified in Y and set its value to 1\n",
    "    one_hot_Y[np.arange(Y.size), Y] = 1\n",
    "    \n",
    "    return (one_hot_Y.T)\n",
    "\n",
    "\n",
    "def back_prop(Z1, A1, Z2, A2, W1, W2, X, Y):\n",
    "    one_hot_Y = one_hot(Y)\n",
    "    \n",
    "    dZ2 = A2 - one_hot_Y\n",
    "    dW2 = 1 / m * dZ2.dot(A1.T)\n",
    "    db2 = 1 / m * np.sum(dZ2)\n",
    "    \n",
    "    dZ1 = W2.T.dot(dZ2) * derivative_ReLU(Z1)\n",
    "    dW1 = 1 / m * dZ1.dot(X.T)\n",
    "    db1 = 1 / m * np.sum(dZ1)\n",
    "    \n",
    "    return dW1, db1, dW2, db2\n"
   ]
  },
  {
   "cell_type": "code",
   "execution_count": 8,
   "metadata": {},
   "outputs": [],
   "source": [
    "def update_params(W1, b1, W2, b2 ,dW1, db1, dW2, db2, alpha):\n",
    "    W1 = W1 - alpha * dW1\n",
    "    b1 = b1 - alpha * db1\n",
    "    W2 = W2 - alpha * dW2\n",
    "    b2 = b2 - alpha * db2\n",
    "\n",
    "    return W1, b1, W2, b2"
   ]
  },
  {
   "cell_type": "code",
   "execution_count": 9,
   "metadata": {},
   "outputs": [],
   "source": [
    "def get_predictions(A2):\n",
    "    return np.argmax(A2, 0)\n",
    "\n",
    "def get_accuracy(predictions, Y):\n",
    "    print(predictions, Y)\n",
    "    return np.sum(predictions == Y) / Y.size\n",
    "\n",
    "def gradient_descent(X, Y, alpha, iterations):\n",
    "    W1, b1, W2, b2 = init_params()\n",
    "\n",
    "    for i in range(iterations+1):\n",
    "        \n",
    "        Z1, A1, Z2, A2 = forward_propagation(W1, b1, W2, b2, X)\n",
    "        dW1, db1, dW2, db2 = back_prop(Z1, A1, Z2, A2, W1, W2, X, Y)\n",
    "        W1, b1, W2, b2 = update_params(W1, b1, W2, b2, dW1, db1, dW2, db2, alpha)\n",
    "        \n",
    "        if i % 10 == 0:\n",
    "            print(\"Iteration: \", i)\n",
    "            predictions = get_predictions(A2)\n",
    "            print(get_accuracy(predictions, Y))\n",
    "\n",
    "    return W1, b1, W2, b2"
   ]
  },
  {
   "cell_type": "code",
   "execution_count": 10,
   "metadata": {},
   "outputs": [
    {
     "name": "stdout",
     "output_type": "stream",
     "text": [
      "Iteration:  0\n",
      "[7 3 7 ... 3 5 5] [5 7 0 ... 2 1 1]\n",
      "0.042731707317073174\n",
      "Iteration:  10\n",
      "[9 9 9 ... 3 9 1] [5 7 0 ... 2 1 1]\n",
      "0.1426341463414634\n",
      "Iteration:  20\n",
      "[9 9 9 ... 1 3 1] [5 7 0 ... 2 1 1]\n",
      "0.19875609756097562\n",
      "Iteration:  30\n",
      "[5 9 9 ... 1 1 1] [5 7 0 ... 2 1 1]\n",
      "0.22882926829268294\n",
      "Iteration:  40\n",
      "[5 9 9 ... 1 1 1] [5 7 0 ... 2 1 1]\n",
      "0.26326829268292684\n",
      "Iteration:  50\n",
      "[5 9 0 ... 2 1 1] [5 7 0 ... 2 1 1]\n",
      "0.3622682926829268\n",
      "Iteration:  60\n",
      "[5 9 0 ... 2 1 1] [5 7 0 ... 2 1 1]\n",
      "0.4005365853658537\n",
      "Iteration:  70\n",
      "[3 0 0 ... 2 1 1] [5 7 0 ... 2 1 1]\n",
      "0.42234146341463413\n",
      "Iteration:  80\n",
      "[3 0 0 ... 2 1 1] [5 7 0 ... 2 1 1]\n",
      "0.4447560975609756\n",
      "Iteration:  90\n",
      "[3 0 0 ... 2 1 1] [5 7 0 ... 2 1 1]\n",
      "0.4684878048780488\n",
      "Iteration:  100\n",
      "[5 0 0 ... 2 1 1] [5 7 0 ... 2 1 1]\n",
      "0.491390243902439\n",
      "Iteration:  110\n",
      "[5 0 0 ... 2 1 1] [5 7 0 ... 2 1 1]\n",
      "0.5121707317073171\n",
      "Iteration:  120\n",
      "[5 0 0 ... 2 7 1] [5 7 0 ... 2 1 1]\n",
      "0.5310243902439025\n",
      "Iteration:  130\n",
      "[5 0 0 ... 2 7 1] [5 7 0 ... 2 1 1]\n",
      "0.5494878048780488\n",
      "Iteration:  140\n",
      "[5 0 0 ... 2 7 1] [5 7 0 ... 2 1 1]\n",
      "0.5683170731707317\n",
      "Iteration:  150\n",
      "[5 0 0 ... 2 7 1] [5 7 0 ... 2 1 1]\n",
      "0.5872439024390244\n",
      "Iteration:  160\n",
      "[5 5 0 ... 2 7 1] [5 7 0 ... 2 1 1]\n",
      "0.6058780487804878\n",
      "Iteration:  170\n",
      "[5 5 0 ... 2 7 1] [5 7 0 ... 2 1 1]\n",
      "0.6225121951219512\n",
      "Iteration:  180\n",
      "[5 5 0 ... 2 7 1] [5 7 0 ... 2 1 1]\n",
      "0.6357073170731707\n",
      "Iteration:  190\n",
      "[5 5 0 ... 2 7 1] [5 7 0 ... 2 1 1]\n",
      "0.6475853658536586\n",
      "Iteration:  200\n",
      "[5 5 0 ... 2 7 1] [5 7 0 ... 2 1 1]\n",
      "0.6579268292682927\n",
      "Iteration:  210\n",
      "[5 5 0 ... 2 7 1] [5 7 0 ... 2 1 1]\n",
      "0.6689024390243903\n",
      "Iteration:  220\n",
      "[5 5 0 ... 2 7 1] [5 7 0 ... 2 1 1]\n",
      "0.679\n",
      "Iteration:  230\n",
      "[5 9 0 ... 2 7 1] [5 7 0 ... 2 1 1]\n",
      "0.6882439024390243\n",
      "Iteration:  240\n",
      "[5 9 0 ... 2 7 1] [5 7 0 ... 2 1 1]\n",
      "0.6970243902439024\n",
      "Iteration:  250\n",
      "[5 9 0 ... 2 7 1] [5 7 0 ... 2 1 1]\n",
      "0.7066585365853658\n",
      "Iteration:  260\n",
      "[5 9 0 ... 2 7 1] [5 7 0 ... 2 1 1]\n",
      "0.7156341463414634\n",
      "Iteration:  270\n",
      "[5 9 0 ... 2 1 1] [5 7 0 ... 2 1 1]\n",
      "0.7246341463414634\n",
      "Iteration:  280\n",
      "[5 7 0 ... 2 1 1] [5 7 0 ... 2 1 1]\n",
      "0.7334634146341463\n",
      "Iteration:  290\n",
      "[5 7 0 ... 2 1 1] [5 7 0 ... 2 1 1]\n",
      "0.7412926829268293\n",
      "Iteration:  300\n",
      "[5 7 0 ... 2 1 1] [5 7 0 ... 2 1 1]\n",
      "0.7494146341463415\n",
      "Iteration:  310\n",
      "[5 7 0 ... 2 1 1] [5 7 0 ... 2 1 1]\n",
      "0.7565365853658537\n",
      "Iteration:  320\n",
      "[5 7 0 ... 2 1 1] [5 7 0 ... 2 1 1]\n",
      "0.7638536585365854\n",
      "Iteration:  330\n",
      "[5 7 0 ... 2 1 1] [5 7 0 ... 2 1 1]\n",
      "0.7703170731707317\n",
      "Iteration:  340\n",
      "[5 7 0 ... 2 1 1] [5 7 0 ... 2 1 1]\n",
      "0.7760975609756098\n",
      "Iteration:  350\n",
      "[5 7 0 ... 2 1 1] [5 7 0 ... 2 1 1]\n",
      "0.7811463414634147\n",
      "Iteration:  360\n",
      "[5 7 0 ... 2 1 1] [5 7 0 ... 2 1 1]\n",
      "0.7857560975609756\n",
      "Iteration:  370\n",
      "[5 7 0 ... 2 1 1] [5 7 0 ... 2 1 1]\n",
      "0.7903902439024391\n",
      "Iteration:  380\n",
      "[5 7 0 ... 2 1 1] [5 7 0 ... 2 1 1]\n",
      "0.7945609756097561\n",
      "Iteration:  390\n",
      "[5 7 0 ... 2 1 1] [5 7 0 ... 2 1 1]\n",
      "0.7983170731707318\n",
      "Iteration:  400\n",
      "[5 7 0 ... 2 1 1] [5 7 0 ... 2 1 1]\n",
      "0.8018048780487805\n",
      "Iteration:  410\n",
      "[5 7 0 ... 2 1 1] [5 7 0 ... 2 1 1]\n",
      "0.8051951219512196\n",
      "Iteration:  420\n",
      "[5 7 0 ... 2 1 1] [5 7 0 ... 2 1 1]\n",
      "0.8088048780487805\n",
      "Iteration:  430\n",
      "[5 7 0 ... 2 1 1] [5 7 0 ... 2 1 1]\n",
      "0.8115853658536586\n",
      "Iteration:  440\n",
      "[5 7 0 ... 2 1 1] [5 7 0 ... 2 1 1]\n",
      "0.8137560975609756\n",
      "Iteration:  450\n",
      "[5 7 0 ... 2 1 1] [5 7 0 ... 2 1 1]\n",
      "0.816390243902439\n",
      "Iteration:  460\n",
      "[5 7 0 ... 2 1 1] [5 7 0 ... 2 1 1]\n",
      "0.8182682926829268\n",
      "Iteration:  470\n",
      "[5 7 0 ... 2 1 1] [5 7 0 ... 2 1 1]\n",
      "0.820390243902439\n",
      "Iteration:  480\n",
      "[5 7 0 ... 2 1 1] [5 7 0 ... 2 1 1]\n",
      "0.8222926829268292\n",
      "Iteration:  490\n",
      "[5 7 0 ... 2 1 1] [5 7 0 ... 2 1 1]\n",
      "0.8243170731707317\n"
     ]
    }
   ],
   "source": [
    "W1, b1, W2, b2 = gradient_descent(X_train, Y_train, 0.10, 500)"
   ]
  },
  {
   "cell_type": "code",
   "execution_count": 11,
   "metadata": {},
   "outputs": [],
   "source": [
    "def make_predictions(X, W1, b1, W2, b2):\n",
    "    _, _, _, A2 = forward_propagation(W1, b1, W2, b2, X)\n",
    "    predictions = get_predictions(A2)\n",
    "    return predictions\n",
    "\n",
    "def test_prediction(index, W1, b1, W2, b2):\n",
    "    current_image = X_train[:, index, None]\n",
    "    prediction = make_predictions(X_train[:, index, None], W1, b1, W2, b2)\n",
    "    label = Y_train[index]\n",
    "    print(\"Prediction: \", prediction)\n",
    "    print(\"Label: \", label)\n",
    "    \n",
    "    current_image = current_image.reshape((28, 28)) * 255\n",
    "    plt.gray()\n",
    "    plt.imshow(current_image, interpolation='nearest')\n",
    "    plt.show()"
   ]
  },
  {
   "cell_type": "code",
   "execution_count": 16,
   "metadata": {},
   "outputs": [
    {
     "name": "stdout",
     "output_type": "stream",
     "text": [
      "Prediction:  [2]\n",
      "Label:  8\n"
     ]
    },
    {
     "data": {
      "image/png": "[encoded data removed]",
      "text/plain": [
       "<Figure size 640x480 with 1 Axes>"
      ]
     },
     "metadata": {},
     "output_type": "display_data"
    }
   ],
   "source": [
    "test_prediction(2003, W1, b1, W2, b2)"
   ]
  },
  {
   "cell_type": "code",
   "execution_count": 13,
   "metadata": {},
   "outputs": [
    {
     "name": "stdout",
     "output_type": "stream",
     "text": [
      "[1 5 2 8 4 4 0 4 4 8 7 2 8 2 9 4 8 8 1 1 5 2 5 6 7 5 2 1 9 2 2 3 2 6 5 6 1\n",
      " 0 0 9 6 1 0 4 0 2 3 4 4 0 9 2 8 1 7 5 3 4 9 6 5 2 2 3 8 5 2 6 8 2 1 1 8 7\n",
      " 5 0 1 8 3 8 0 7 3 5 9 1 1 7 4 2 9 3 7 2 1 1 7 4 3 4 8 9 9 9 4 7 5 0 1 8 4\n",
      " 9 3 8 0 8 3 0 5 5 3 9 1 5 1 4 9 6 3 6 2 2 3 6 8 1 2 2 6 5 5 4 1 6 0 1 8 1\n",
      " 0 1 9 5 1 3 2 7 4 1 5 6 4 5 9 4 9 2 5 0 1 2 6 9 1 2 9 0 0 5 9 3 9 0 8 4 8\n",
      " 7 9 1 1 8 9 7 4 7 8 3 0 6 1 1 5 6 1 5 0 0 6 4 3 8 8 7 9 5 3 7 5 0 8 8 7 5\n",
      " 4 4 7 0 1 8 2 1 0 7 4 5 4 3 8 2 0 1 9 9 5 0 3 9 4 6 8 2 4 3 2 2 8 8 3 0 7\n",
      " 7 2 4 7 2 3 0 0 2 9 8 1 2 8 6 0 8 2 2 0 0 1 5 8 2 9 2 2 1 1 0 3 1 4 3 0 3\n",
      " 5 9 2 1 2 4 4 8 5 9 7 2 6 2 5 5 2 2 1 7 4 9 0 3 9 3 6 9 1 0 7 7 2 0 5 0 3\n",
      " 4 2 5 1 1 0 7 7 5 2 0 0 7 4 0 8 8 5 3 0 4 5 1 4 8 1 5 2 1 0 4 4 4 9 2 1 6\n",
      " 4 5 1 9 0 0 1 0 0 8 2 0 1 9 8 7 7 8 2 1 9 2 2 8 1 1 1 7 2 4 0 8 9 3 6 9 7\n",
      " 2 0 9 0 9 5 1 2 2 3 4 1 8 6 0 0 7 4 8 5 8 2 8 8 1 6 1 9 3 4 4 9 9 9 1 2 4\n",
      " 6 9 9 1 8 8 0 8 3 6 3 8 8 4 2 2 3 9 1 5 2 9 6 8 4 4 9 7 3 9 5 2 1 8 3 2 5\n",
      " 9 5 6 0 3 6 0 0 9 9 4 9 4 1 4 9 6 2 0 7 7 3 1 2 3 3 8 3 4 8 1 2 7 9 2 0 7\n",
      " 1 5 6 0 8 3 7 4 0 9 1 3 9 5 3 1 5 1 1 4 5 2 7 5 0 4 0 7 5 2 9 4 0 2 5 0 4\n",
      " 2 9 8 3 0 5 6 3 3 2 6 4 7 2 0 1 1 8 9 3 8 2 0 4 0 7 6 2 5 0 7 3 7 0 9 4 6\n",
      " 7 2 1 1 5 5 2 5 9 5 7 9 7 1 7 9 4 1 4 0 2 4 2 6 6 2 4 5 3 3 2 1 1 5 0 5 4\n",
      " 3 3 9 5 0 2 5 6 9 0 6 1 8 7 5 3 5 5 1 2 8 2 6 1 0 9 4 7 6 9 7 1 4 2 8 9 7\n",
      " 4 9 7 3 4 7 9 6 0 7 9 4 4 9 5 4 3 9 3 6 9 1 4 8 8 0 1 9 7 1 5 6 1 8 3 0 9\n",
      " 8 2 5 7 2 8 1 1 8 2 4 3 1 3 8 9 7 9 3 8 9 6 8 1 1 9 1 7 7 9 3 9 7 5 5 4 8\n",
      " 0 3 3 6 0 2 2 5 6 0 3 8 8 2 6 6 2 8 1 5 8 1 2 5 9 2 0 7 3 9 2 8 0 0 0 2 3\n",
      " 1 8 5 7 3 3 2 0 0 0 1 9 9 2 7 3 4 7 0 4 0 9 7 9 1 1 4 1 7 7 4 8 4 1 3 4 2\n",
      " 1 8 7 8 5 7 2 6 7 1 1 4 4 2 1 1 4 6 9 4 1 2 6 5 0 8 2 0 4 6 6 1 9 9 9 3 8\n",
      " 4 7 4 0 3 8 4 2 4 8 8 3 5 7 0 6 9 9 6 9 1 1 4 3 2 3 6 9 9 4 3 5 1 6 2 0 1\n",
      " 9 3 7 3 9 7 4 8 6 7 9 4 0 0 7 8 1 5 4 1 4 0 9 6 7 3 4 3 8 4 3 0 0 3 2 0 5\n",
      " 6 3 7 2 9 2 9 6 6 3 5 1 1 7 2 7 3 4 5 9 4 4 0 6 6 8 7 2 2 4 0 0 1 0 7 3 6\n",
      " 8 1 8 9 1 7 1 9 3 6 4 6 3 6 3 4 7 8 5 8 4 3 9 5 7 5 6 5 3 8 9 0 8 5 8 9 6\n",
      " 0] [1 5 2 8 4 4 0 4 4 8 7 2 8 2 9 4 8 8 1 1 6 2 5 6 7 5 2 1 9 2 2 3 2 6 5 6 1\n",
      " 0 0 9 4 1 0 4 0 2 3 4 4 7 3 2 8 1 7 8 3 4 9 6 5 2 2 3 2 5 2 6 8 2 1 3 8 9\n",
      " 5 0 1 8 2 8 0 7 3 5 9 1 1 7 5 2 9 3 7 2 1 1 7 4 3 4 8 9 9 9 4 7 5 0 1 8 2\n",
      " 9 3 8 0 8 3 0 5 5 3 7 1 5 1 9 9 6 3 6 2 2 3 6 8 1 8 2 6 5 5 4 1 6 0 1 8 1\n",
      " 0 1 9 5 9 4 2 7 4 1 5 6 8 3 7 5 9 2 3 0 1 2 6 9 1 3 8 0 9 5 9 7 9 0 8 5 8\n",
      " 7 4 1 1 8 9 7 4 7 8 3 0 6 1 1 8 6 1 6 0 0 6 4 3 8 8 7 9 5 3 7 5 0 9 8 7 5\n",
      " 4 4 7 0 1 8 2 1 0 7 4 5 4 3 9 2 6 1 5 9 8 6 3 9 4 2 2 2 5 3 2 2 8 5 3 0 7\n",
      " 7 2 4 7 2 3 0 0 2 9 8 1 2 8 6 0 9 2 2 0 0 1 5 8 2 9 2 2 1 1 0 3 1 2 5 2 3\n",
      " 8 9 2 1 9 4 4 8 5 4 2 2 6 2 5 5 2 2 1 7 4 9 5 3 9 5 6 9 1 0 7 2 2 9 5 7 3\n",
      " 4 8 5 1 1 0 7 7 5 2 0 0 7 4 0 8 4 5 3 0 9 5 7 4 8 1 5 2 1 0 4 9 4 9 3 1 6\n",
      " 4 2 1 9 0 0 1 0 2 8 2 0 1 9 8 7 7 8 2 1 9 2 2 8 1 1 1 7 3 4 0 8 9 3 6 2 7\n",
      " 2 0 9 0 7 5 1 0 6 9 4 1 3 6 0 5 9 4 5 8 8 2 1 8 1 6 1 9 3 4 4 4 9 9 1 2 4\n",
      " 6 9 9 1 3 8 0 8 5 6 2 8 8 4 8 2 3 9 1 5 2 9 6 8 4 4 9 9 0 9 8 3 1 8 3 7 5\n",
      " 9 5 6 0 3 6 0 0 9 9 4 9 4 1 4 9 6 2 0 7 7 3 1 2 3 3 3 5 4 8 1 2 3 9 6 0 7\n",
      " 1 5 6 4 8 3 7 4 0 4 1 3 9 3 7 9 5 1 1 4 5 2 7 5 0 6 0 9 5 2 5 4 0 3 5 0 4\n",
      " 2 9 8 3 0 5 6 3 3 2 0 4 7 2 0 1 1 8 8 3 8 2 0 4 0 9 2 5 5 0 7 3 2 0 9 4 6\n",
      " 7 2 1 3 5 5 2 5 9 5 2 9 3 1 7 2 4 1 4 0 2 4 2 6 6 2 9 5 3 3 2 1 1 8 0 5 4\n",
      " 3 3 9 5 0 2 5 6 9 0 6 1 5 9 6 3 5 5 1 2 8 3 6 1 7 9 4 2 6 9 7 1 4 2 8 2 7\n",
      " 4 4 7 3 4 7 4 6 0 7 4 6 4 5 8 4 3 9 3 6 9 1 8 8 5 0 1 7 7 1 5 2 1 8 2 0 9\n",
      " 8 2 6 9 2 8 1 1 8 2 4 3 1 3 8 9 7 7 2 1 7 6 8 1 1 9 1 7 7 9 3 9 7 5 5 9 1\n",
      " 0 1 3 6 0 2 2 5 6 0 3 8 8 2 2 6 2 3 1 4 5 1 2 5 9 2 0 7 3 4 2 9 0 0 0 2 5\n",
      " 1 1 8 7 3 3 2 0 0 0 1 9 9 2 7 3 4 7 0 4 0 9 7 9 1 1 4 1 7 7 5 8 4 1 3 4 2\n",
      " 1 8 7 1 0 7 2 6 7 1 1 4 4 2 1 1 4 6 9 2 1 2 6 5 0 8 2 0 4 6 6 1 9 9 9 3 8\n",
      " 4 7 4 0 3 8 4 2 5 8 8 2 5 0 0 6 9 9 6 9 1 1 4 3 6 3 6 3 9 4 3 8 1 6 8 0 1\n",
      " 9 3 7 3 9 7 4 8 6 7 7 4 0 0 9 9 1 5 4 1 6 0 9 6 7 3 4 3 8 2 5 0 0 3 2 0 5\n",
      " 6 3 7 2 9 2 9 6 6 3 5 1 1 7 2 7 3 4 4 9 4 4 0 6 6 2 7 2 2 4 0 0 1 0 7 3 6\n",
      " 8 1 8 8 1 7 1 3 2 6 4 6 5 6 3 4 7 8 5 8 4 3 8 5 7 5 6 5 9 8 9 0 8 0 8 9 6\n",
      " 0]\n"
     ]
    },
    {
     "data": {
      "text/plain": [
       "0.831"
      ]
     },
     "execution_count": 13,
     "metadata": {},
     "output_type": "execute_result"
    }
   ],
   "source": [
    "dev_predictions = make_predictions(X_dev, W1, b1, W2, b2)\n",
    "get_accuracy(dev_predictions, Y_dev)"
   ]
  }
 ],
 "metadata": {
  "kernelspec": {
   "display_name": "Python 3",
   "language": "python",
   "name": "python3"
  },
  "language_info": {
   "codemirror_mode": {
    "name": "ipython",
    "version": 3
   },
   "file_extension": ".py",
   "mimetype": "text/x-python",
   "name": "python",
   "nbconvert_exporter": "python",
   "pygments_lexer": "ipython3",
   "version": "3.11.3"
  },
  "orig_nbformat": 4
 },
 "nbformat": 4,
 "nbformat_minor": 2
}
